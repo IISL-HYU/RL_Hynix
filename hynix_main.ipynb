{
 "cells": [
  {
   "cell_type": "code",
   "execution_count": 1,
   "metadata": {},
   "outputs": [
    {
     "name": "stderr",
     "output_type": "stream",
     "text": [
      "\n",
      "Bad key text.latex.unicode in file /Users/lab2020/opt/anaconda3/envs/learning/lib/python3.7/site-packages/matplotlib/mpl-data/stylelib/_classic_test.mplstyle, line 112 ('text.latex.unicode : False # use \"ucs\" and \"inputenc\" LaTeX packages for handling')\n",
      "You probably need to get an updated matplotlibrc file from\n",
      "https://github.com/matplotlib/matplotlib/blob/v3.3.4/matplotlibrc.template\n",
      "or from the matplotlib source distribution\n",
      "\n",
      "Bad key savefig.frameon in file /Users/lab2020/opt/anaconda3/envs/learning/lib/python3.7/site-packages/matplotlib/mpl-data/stylelib/_classic_test.mplstyle, line 423 ('savefig.frameon : True')\n",
      "You probably need to get an updated matplotlibrc file from\n",
      "https://github.com/matplotlib/matplotlib/blob/v3.3.4/matplotlibrc.template\n",
      "or from the matplotlib source distribution\n",
      "\n",
      "Bad key pgf.debug in file /Users/lab2020/opt/anaconda3/envs/learning/lib/python3.7/site-packages/matplotlib/mpl-data/stylelib/_classic_test.mplstyle, line 444 ('pgf.debug           : False')\n",
      "You probably need to get an updated matplotlibrc file from\n",
      "https://github.com/matplotlib/matplotlib/blob/v3.3.4/matplotlibrc.template\n",
      "or from the matplotlib source distribution\n",
      "\n",
      "Bad key verbose.level in file /Users/lab2020/opt/anaconda3/envs/learning/lib/python3.7/site-packages/matplotlib/mpl-data/stylelib/_classic_test.mplstyle, line 475 ('verbose.level  : silent      # one of silent, helpful, debug, debug-annoying')\n",
      "You probably need to get an updated matplotlibrc file from\n",
      "https://github.com/matplotlib/matplotlib/blob/v3.3.4/matplotlibrc.template\n",
      "or from the matplotlib source distribution\n",
      "\n",
      "Bad key verbose.fileo in file /Users/lab2020/opt/anaconda3/envs/learning/lib/python3.7/site-packages/matplotlib/mpl-data/stylelib/_classic_test.mplstyle, line 476 ('verbose.fileo  : sys.stdout  # a log filename, sys.stdout or sys.stderr')\n",
      "You probably need to get an updated matplotlibrc file from\n",
      "https://github.com/matplotlib/matplotlib/blob/v3.3.4/matplotlibrc.template\n",
      "or from the matplotlib source distribution\n",
      "In /Users/lab2020/opt/anaconda3/envs/learning/lib/python3.7/site-packages/matplotlib/mpl-data/stylelib/_classic_test.mplstyle: \n",
      "The text.latex.preview rcparam was deprecated in Matplotlib 3.3 and will be removed two minor releases later.\n",
      "In /Users/lab2020/opt/anaconda3/envs/learning/lib/python3.7/site-packages/matplotlib/mpl-data/stylelib/_classic_test.mplstyle: \n",
      "The mathtext.fallback_to_cm rcparam was deprecated in Matplotlib 3.3 and will be removed two minor releases later.\n",
      "In /Users/lab2020/opt/anaconda3/envs/learning/lib/python3.7/site-packages/matplotlib/mpl-data/stylelib/_classic_test.mplstyle: Support for setting the 'mathtext.fallback_to_cm' rcParam is deprecated since 3.3 and will be removed two minor releases later; use 'mathtext.fallback : 'cm' instead.\n",
      "In /Users/lab2020/opt/anaconda3/envs/learning/lib/python3.7/site-packages/matplotlib/mpl-data/stylelib/_classic_test.mplstyle: \n",
      "The validate_bool_maybe_none function was deprecated in Matplotlib 3.3 and will be removed two minor releases later.\n",
      "In /Users/lab2020/opt/anaconda3/envs/learning/lib/python3.7/site-packages/matplotlib/mpl-data/stylelib/_classic_test.mplstyle: \n",
      "The savefig.jpeg_quality rcparam was deprecated in Matplotlib 3.3 and will be removed two minor releases later.\n",
      "In /Users/lab2020/opt/anaconda3/envs/learning/lib/python3.7/site-packages/matplotlib/mpl-data/stylelib/_classic_test.mplstyle: \n",
      "The keymap.all_axes rcparam was deprecated in Matplotlib 3.3 and will be removed two minor releases later.\n",
      "In /Users/lab2020/opt/anaconda3/envs/learning/lib/python3.7/site-packages/matplotlib/mpl-data/stylelib/_classic_test.mplstyle: \n",
      "The animation.avconv_path rcparam was deprecated in Matplotlib 3.3 and will be removed two minor releases later.\n",
      "In /Users/lab2020/opt/anaconda3/envs/learning/lib/python3.7/site-packages/matplotlib/mpl-data/stylelib/_classic_test.mplstyle: \n",
      "The animation.avconv_args rcparam was deprecated in Matplotlib 3.3 and will be removed two minor releases later.\n"
     ]
    }
   ],
   "source": [
    "import tensorflow as tf\n",
    "import numpy as np\n",
    "import matplotlib.pyplot as plt\n",
    "import random\n",
    "import os\n",
    "import sys\n",
    "\n",
    "from collections import deque\n",
    "from env import SimpleAmpEnv\n",
    "from DQNagent import DQNagent\n"
   ]
  },
  {
   "cell_type": "code",
   "execution_count": 2,
   "metadata": {},
   "outputs": [],
   "source": [
    "# Change clab to True if using google colaboratory\n",
    "clab = False\n",
    "\n",
    "if clab:\n",
    "    from tensorflow.keras.utils import plot_model\n"
   ]
  },
  {
   "cell_type": "code",
   "execution_count": 3,
   "metadata": {},
   "outputs": [
    {
     "name": "stdout",
     "output_type": "stream",
     "text": [
      "Input_Layer size: 3\n",
      "Output_Layer size: 3\n"
     ]
    },
    {
     "name": "stderr",
     "output_type": "stream",
     "text": [
      "/Users/lab2020/opt/anaconda3/envs/learning/lib/python3.7/site-packages/gym/logger.py:34: UserWarning: \u001b[33mWARN: Box bound precision lowered by casting to float32\u001b[0m\n",
      "  warnings.warn(colorize(\"%s: %s\" % (\"WARN\", msg % args), \"yellow\"))\n"
     ]
    }
   ],
   "source": [
    "# Initialize environment\n",
    "env = SimpleAmpEnv(ideal=False, reward_type=\"AutoCkt\")\n",
    "state_size = env.observation_space.shape[0]\n",
    "action_size = env.action_space.n\n",
    "\n",
    "# Check the Input layer size, and Output layer size\n",
    "print(f\"Input_Layer size: {state_size}\")\n",
    "print(f\"Output_Layer size: {action_size}\")"
   ]
  },
  {
   "cell_type": "code",
   "execution_count": 4,
   "metadata": {},
   "outputs": [
    {
     "name": "stderr",
     "output_type": "stream",
     "text": [
      "2022-03-02 15:41:58.420164: I tensorflow/core/platform/cpu_feature_guard.cc:145] This TensorFlow binary is optimized with Intel(R) MKL-DNN to use the following CPU instructions in performance critical operations:  SSE4.1 SSE4.2 AVX AVX2 FMA\n",
      "To enable them in non-MKL-DNN operations, rebuild TensorFlow with the appropriate compiler flags.\n",
      "2022-03-02 15:41:58.420555: I tensorflow/core/common_runtime/process_util.cc:115] Creating new thread pool with default inter op setting: 16. Tune using inter_op_parallelism_threads for best performance.\n"
     ]
    },
    {
     "name": "stdout",
     "output_type": "stream",
     "text": [
      "Model: \"sequential\"\n",
      "_________________________________________________________________\n",
      "Layer (type)                 Output Shape              Param #   \n",
      "=================================================================\n",
      "dense (Dense)                (None, 64)                256       \n",
      "_________________________________________________________________\n",
      "dense_1 (Dense)              (None, 64)                4160      \n",
      "_________________________________________________________________\n",
      "dense_2 (Dense)              (None, 3)                 195       \n",
      "=================================================================\n",
      "Total params: 4,611\n",
      "Trainable params: 4,611\n",
      "Non-trainable params: 0\n",
      "_________________________________________________________________\n",
      "Model: \"sequential_1\"\n",
      "_________________________________________________________________\n",
      "Layer (type)                 Output Shape              Param #   \n",
      "=================================================================\n",
      "dense_3 (Dense)              (None, 64)                256       \n",
      "_________________________________________________________________\n",
      "dense_4 (Dense)              (None, 64)                4160      \n",
      "_________________________________________________________________\n",
      "dense_5 (Dense)              (None, 3)                 195       \n",
      "=================================================================\n",
      "Total params: 4,611\n",
      "Trainable params: 4,611\n",
      "Non-trainable params: 0\n",
      "_________________________________________________________________\n"
     ]
    }
   ],
   "source": [
    "agent = DQNagent(state_size, action_size)\n",
    "agent.main_model.summary()\n",
    "agent.target_model.summary()\n",
    "if clab:\n",
    "    plot_model(agent.main_model, show_shapes=True)\n"
   ]
  },
  {
   "cell_type": "code",
   "execution_count": 5,
   "metadata": {},
   "outputs": [],
   "source": [
    "scores = []"
   ]
  },
  {
   "cell_type": "code",
   "execution_count": 10,
   "metadata": {},
   "outputs": [
    {
     "name": "stdout",
     "output_type": "stream",
     "text": [
      "Episode 1(starting epsilon: 0.09910481551887473):\n",
      "Episode 2(starting epsilon: 0.09910481551887473):\n",
      "Episode 3(starting epsilon: 0.09910481551887473):\n",
      "Episode 4(starting epsilon: 0.09910481551887473):\n",
      "Episode 5(starting epsilon: 0.09910481551887473):\n",
      "Episode 6(starting epsilon: 0.09910481551887473):\n",
      "Episode 7(starting epsilon: 0.09910481551887473):\n",
      "Episode 8(starting epsilon: 0.09910481551887473):\n",
      "Episode 9(starting epsilon: 0.09910481551887473):\n",
      "Episode 10(starting epsilon: 0.09910481551887473):\n",
      "Episode 11(starting epsilon: 0.09910481551887473):\n",
      "Episode 12(starting epsilon: 0.09910481551887473):\n",
      "Episode 13(starting epsilon: 0.09910481551887473):\n",
      "Episode 14(starting epsilon: 0.09910481551887473):\n",
      "Episode 15(starting epsilon: 0.09910481551887473):\n",
      "Episode 16(starting epsilon: 0.09910481551887473):\n",
      "Episode 17(starting epsilon: 0.09910481551887473):\n",
      "Episode 18(starting epsilon: 0.09910481551887473):\n",
      "Episode 19(starting epsilon: 0.09910481551887473):\n",
      "Episode 20(starting epsilon: 0.09910481551887473):\n",
      "Episode 21(starting epsilon: 0.09910481551887473):\n",
      "Episode 22(starting epsilon: 0.09910481551887473):\n",
      "Episode 23(starting epsilon: 0.09910481551887473):\n",
      "Episode 24(starting epsilon: 0.09910481551887473):\n",
      "Episode 25(starting epsilon: 0.09910481551887473):\n",
      "Episode 26(starting epsilon: 0.09910481551887473):\n",
      "Episode 27(starting epsilon: 0.09910481551887473):\n",
      "Episode 28(starting epsilon: 0.09910481551887473):\n",
      "Episode 29(starting epsilon: 0.09910481551887473):\n",
      "Episode 30(starting epsilon: 0.09910481551887473):\n",
      "Episode 31(starting epsilon: 0.09910481551887473):\n",
      "Episode 32(starting epsilon: 0.09910481551887473):\n",
      "Episode 33(starting epsilon: 0.09910481551887473):\n",
      "Episode 34(starting epsilon: 0.09910481551887473):\n",
      "Episode 35(starting epsilon: 0.09910481551887473):\n",
      "Episode 36(starting epsilon: 0.09910481551887473):\n",
      "Episode 37(starting epsilon: 0.09910481551887473):\n",
      "Episode 38(starting epsilon: 0.09910481551887473):\n",
      "Episode 39(starting epsilon: 0.09910481551887473):\n",
      "Episode 40(starting epsilon: 0.09910481551887473):\n",
      "Episode 41(starting epsilon: 0.09910481551887473):\n",
      "Episode 42(starting epsilon: 0.09910481551887473):\n",
      "Episode 43(starting epsilon: 0.09910481551887473):\n",
      "Episode 44(starting epsilon: 0.09910481551887473):\n",
      "Episode 45(starting epsilon: 0.09910481551887473):\n",
      "Episode 46(starting epsilon: 0.09910481551887473):\n",
      "Episode 47(starting epsilon: 0.09910481551887473):\n",
      "Episode 48(starting epsilon: 0.09910481551887473):\n",
      "Episode 49(starting epsilon: 0.09910481551887473):\n",
      "Episode 50(starting epsilon: 0.09910481551887473):\n",
      "Episode 51(starting epsilon: 0.09910481551887473):\n",
      "Episode 52(starting epsilon: 0.09910481551887473):\n",
      "Episode 53(starting epsilon: 0.09910481551887473):\n",
      "Episode 54(starting epsilon: 0.09910481551887473):\n",
      "Episode 55(starting epsilon: 0.09910481551887473):\n",
      "Episode 56(starting epsilon: 0.09910481551887473):\n",
      "Episode 57(starting epsilon: 0.09910481551887473):\n",
      "Episode 58(starting epsilon: 0.09910481551887473):\n",
      "Episode 59(starting epsilon: 0.09910481551887473):\n",
      "Episode 60(starting epsilon: 0.09910481551887473):\n",
      "Episode 61(starting epsilon: 0.09910481551887473):\n",
      "Episode 62(starting epsilon: 0.09910481551887473):\n",
      "Episode 63(starting epsilon: 0.09910481551887473):\n",
      "Episode 64(starting epsilon: 0.09910481551887473):\n",
      "Episode 65(starting epsilon: 0.09910481551887473):\n",
      "Episode 66(starting epsilon: 0.09910481551887473):\n",
      "Episode 67(starting epsilon: 0.09910481551887473):\n",
      "Episode 68(starting epsilon: 0.09910481551887473):\n",
      "Episode 69(starting epsilon: 0.09910481551887473):\n",
      "Episode 70(starting epsilon: 0.09910481551887473):\n",
      "Episode 71(starting epsilon: 0.09910481551887473):\n",
      "Episode 72(starting epsilon: 0.09910481551887473):\n",
      "Episode 73(starting epsilon: 0.09910481551887473):\n",
      "Episode 74(starting epsilon: 0.09910481551887473):\n",
      "Episode 75(starting epsilon: 0.09910481551887473):\n",
      "Episode 76(starting epsilon: 0.09910481551887473):\n",
      "Episode 77(starting epsilon: 0.09910481551887473):\n",
      "Episode 78(starting epsilon: 0.09910481551887473):\n",
      "Episode 79(starting epsilon: 0.09910481551887473):\n",
      "Episode 80(starting epsilon: 0.09910481551887473):\n",
      "Episode 81(starting epsilon: 0.09910481551887473):\n",
      "Episode 82(starting epsilon: 0.09910481551887473):\n",
      "Episode 83(starting epsilon: 0.09910481551887473):\n",
      "Episode 84(starting epsilon: 0.09910481551887473):\n",
      "Episode 85(starting epsilon: 0.09910481551887473):\n",
      "Episode 86(starting epsilon: 0.09910481551887473):\n",
      "Episode 87(starting epsilon: 0.09910481551887473):\n",
      "Episode 88(starting epsilon: 0.09910481551887473):\n",
      "Episode 89(starting epsilon: 0.09910481551887473):\n",
      "Episode 90(starting epsilon: 0.09910481551887473):\n",
      "Episode 91(starting epsilon: 0.09910481551887473):\n",
      "Episode 92(starting epsilon: 0.09910481551887473):\n",
      "Episode 93(starting epsilon: 0.09910481551887473):\n",
      "Episode 94(starting epsilon: 0.09910481551887473):\n",
      "Episode 95(starting epsilon: 0.09910481551887473):\n",
      "Episode 96(starting epsilon: 0.09910481551887473):\n",
      "Episode 97(starting epsilon: 0.09910481551887473):\n",
      "Episode 98(starting epsilon: 0.09910481551887473):\n",
      "Episode 99(starting epsilon: 0.09910481551887473):\n",
      "Episode 100(starting epsilon: 0.09910481551887473):\n"
     ]
    }
   ],
   "source": [
    "# Main loop (or Traning Loop for 10 episodes)\n",
    "\n",
    "num_episodes = 100\n",
    "\n",
    "\n",
    "for episode in range(num_episodes):\n",
    "\n",
    "    print(f\"Episode {episode+1}(starting epsilon: {agent.epsilon}):\")\n",
    "    done = False\n",
    "    step = 0 \n",
    "    score = []\n",
    "    state = np.reshape(env.reset(), [1, state_size])\n",
    "\n",
    "    while not done:\n",
    "        step += 1 \n",
    "        action = agent.get_action(state)\n",
    "        next_state, reward, done, info = env.step(action)\n",
    "        next_state = np.reshape(next_state, [1, state_size])\n",
    "        agent.append_sample(state, action, reward, next_state, done)\n",
    "        score.append(reward)\n",
    "\n",
    "        if (len(agent.memory) >= agent.train_start) & (step % 32 == 0):\n",
    "            agent.train_model()\n",
    "\n",
    "        if (step+1) % 100 == 0 :\n",
    "            # print(f\"step: {step}, Current: {env.current_id:.4f} action: {action}, epsilon: {agent.epsilon:.4f}\")\n",
    "            agent.update_target_model()\n",
    "\n",
    "        state = next_state\n",
    "\n",
    "        if done:\n",
    "            result = np.average(score) \n",
    "            scores.append(result)\n",
    "        \n"
   ]
  },
  {
   "cell_type": "markdown",
   "metadata": {},
   "source": []
  },
  {
   "cell_type": "code",
   "execution_count": 8,
   "metadata": {},
   "outputs": [
    {
     "name": "stdout",
     "output_type": "stream",
     "text": [
      "0.128\n",
      "[[-30.387733 -30.627611 -30.694618]]\n",
      "0\n"
     ]
    }
   ],
   "source": [
    "# Prediction outputs... (even though it is not correct yet)\n",
    "test_state = np.reshape(env.reset(), [1, state_size])\n",
    "test_q_values = agent.main_model.predict(test_state)\n",
    "action_choice = np.argmax(test_q_values)\n",
    "print(env.current_id)\n",
    "print(test_q_values)\n",
    "print(action_choice)"
   ]
  },
  {
   "cell_type": "code",
   "execution_count": 24,
   "metadata": {},
   "outputs": [],
   "source": [
    "test_states = np.arange(1, 300) * 0.001\n",
    "test_states[0]\n",
    "test_gbp = env._circuit_topology(test_states[0])[-1]\n",
    "test_gbp_target = env.gbp_target\n",
    "test_input = np.array([test_states[0], test_gbp, test_gbp_target])"
   ]
  },
  {
   "cell_type": "code",
   "execution_count": 25,
   "metadata": {},
   "outputs": [
    {
     "data": {
      "text/plain": [
       "array([0.00333333, 0.10101015, 0.5       ], dtype=float32)"
      ]
     },
     "execution_count": 25,
     "metadata": {},
     "output_type": "execute_result"
    }
   ],
   "source": [
    "test_input_norm = env.normalize_target(test_input)\n",
    "test_input_norm"
   ]
  },
  {
   "cell_type": "code",
   "execution_count": null,
   "metadata": {},
   "outputs": [],
   "source": [
    "test_states = np.arange(1, 300)\n",
    "input_stack = []\n",
    "q_stack = []\n",
    "predictions = []\n",
    "\n",
    "for i in range(len(test_states)):\n",
    "    test_gbp = env._circuit_topology(test_states[i]*1e-3)[-1]\n",
    "    test_gbp_target = env.gbp_target\n",
    "    test_input = np.array([test_states[i]*1e-3, test_gbp, test_gbp_target])\n",
    "    input_stack.append(test_input)\n",
    "    test_input_norm = np.reshape(env.normalize_target(test_input), [1, state_size])\n",
    "    test_q_values = agent.main_model.predict(test_input_norm)\n",
    "    q_stack.append(test_q_values)\n",
    "    print(f\"current_id: {test_states[i]*1e-3:.4f}, action_prediction: {np.argmax(test_q_values)}\")\n",
    "    predictions.append(np.argmax(test_q_values))\n",
    "\n",
    "input_stack = np.array(input_stack)\n",
    "q_stack = np.array(q_stack)"
   ]
  },
  {
   "cell_type": "code",
   "execution_count": null,
   "metadata": {},
   "outputs": [],
   "source": [
    "input_stack"
   ]
  },
  {
   "cell_type": "code",
   "execution_count": 55,
   "metadata": {},
   "outputs": [
    {
     "name": "stdout",
     "output_type": "stream",
     "text": [
      "4.5\n"
     ]
    }
   ],
   "source": [
    "x = []\n",
    "\n",
    "for i in range(10):\n",
    "    x.append(i)\n",
    "    if i == 9:\n",
    "        score = np.average(x)\n",
    "\n",
    "print(score)"
   ]
  },
  {
   "cell_type": "code",
   "execution_count": 12,
   "metadata": {},
   "outputs": [
    {
     "data": {
      "image/png": "[encoded data removed]",
      "text/plain": [
       "<Figure size 648x360 with 1 Axes>"
      ]
     },
     "metadata": {
      "needs_background": "light"
     },
     "output_type": "display_data"
    }
   ],
   "source": [
    "plt.figure(figsize=(9, 5))\n",
    "plt.plot(scores, label=\"mean episode reward\")\n",
    "plt.legend()\n",
    "plt.grid()\n"
   ]
  },
  {
   "cell_type": "code",
   "execution_count": 29,
   "metadata": {},
   "outputs": [],
   "source": [
    "os.mkdir(\"./trained_model/\")\n",
    "agent.main_model.save(\"./trained_model/main_model.h5\")"
   ]
  }
 ],
 "metadata": {
  "interpreter": {
   "hash": "7ab57b40917d2668bbbeeb6dcb0f927fae8d33b10a6538581e5b2008fa03fdfe"
  },
  "kernelspec": {
   "display_name": "Python 3.7.0 64-bit ('learning': conda)",
   "language": "python",
   "name": "python3"
  },
  "language_info": {
   "codemirror_mode": {
    "name": "ipython",
    "version": 3
   },
   "file_extension": ".py",
   "mimetype": "text/x-python",
   "name": "python",
   "nbconvert_exporter": "python",
   "pygments_lexer": "ipython3",
   "version": "3.7.0"
  },
  "orig_nbformat": 4
 },
 "nbformat": 4,
 "nbformat_minor": 2
}
